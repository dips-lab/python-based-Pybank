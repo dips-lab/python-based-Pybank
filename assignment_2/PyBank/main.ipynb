{
 "cells": [
  {
   "cell_type": "code",
   "execution_count": 1,
   "id": "failing-flesh",
   "metadata": {},
   "outputs": [],
   "source": [
    "# Create a Python script that analyzes the PyBank records to calculate each of the following:"
   ]
  },
  {
   "cell_type": "code",
   "execution_count": 3,
   "id": "elegant-guinea",
   "metadata": {},
   "outputs": [],
   "source": [
    "# --> The total number of months included in the dataset."
   ]
  },
  {
   "cell_type": "code",
   "execution_count": 4,
   "id": "continued-citizen",
   "metadata": {},
   "outputs": [],
   "source": [
    "# --> The net total amount of Profit/Losses over the entire period."
   ]
  },
  {
   "cell_type": "code",
   "execution_count": 5,
   "id": "raising-cleaners",
   "metadata": {},
   "outputs": [],
   "source": [
    "# --> The average of the changes in Profit/Losses over the entire period."
   ]
  },
  {
   "cell_type": "code",
   "execution_count": 6,
   "id": "impressed-emphasis",
   "metadata": {},
   "outputs": [],
   "source": [
    "# --> The greatest increase in profits (date and amount) over the entire period."
   ]
  },
  {
   "cell_type": "code",
   "execution_count": 7,
   "id": "combined-passing",
   "metadata": {},
   "outputs": [],
   "source": [
    "# --> The greatest decrease in profits (date and amount) over the entire period."
   ]
  },
  {
   "cell_type": "code",
   "execution_count": 15,
   "id": "julian-belle",
   "metadata": {},
   "outputs": [],
   "source": [
    "# Import the pathlib and csv library\n",
    "from pathlib import Path\n",
    "import csv"
   ]
  },
  {
   "cell_type": "code",
   "execution_count": 35,
   "id": "straight-uruguay",
   "metadata": {},
   "outputs": [],
   "source": [
    "# Set the file path\n",
    "csvpath = Path('Resources/budget_data.csv')"
   ]
  },
  {
   "cell_type": "code",
   "execution_count": 43,
   "id": "crude-uruguay",
   "metadata": {},
   "outputs": [],
   "source": [
    "# create empty lists to iterate through specific rows for following variables\n",
    "months = []\n",
    "profit_loss_changes = []\n",
    "\n",
    "count_months = 0\n",
    "net_profit_loss = 0\n",
    "previous_month_profit_loss = 0\n",
    "current_month_profit_loss = 0\n",
    "profit_loss_change = 0"
   ]
  },
  {
   "cell_type": "code",
   "execution_count": 44,
   "id": "structural-sculpture",
   "metadata": {},
   "outputs": [],
   "source": [
    "# initialize line_num varibale\n",
    "line_num = 0"
   ]
  },
  {
   "cell_type": "code",
   "execution_count": 45,
   "id": "beneficial-studio",
   "metadata": {},
   "outputs": [
    {
     "name": "stdout",
     "output_type": "stream",
     "text": [
      "<class '_io.TextIOWrapper'>\n",
      "<class '_csv.reader'>\n",
      "['Date', 'Profit/Losses'] <---- HEADER\n"
     ]
    }
   ],
   "source": [
    "# Open the input path as a file object\n",
    "with open(csvpath, 'r') as csvfile:\n",
    "    \n",
    "    #  # Print the datatype of the file object\n",
    "    print(type(csvfile))\n",
    "       # Pass in the csv file to the csv.reader() function\n",
    "    # (with ',' as the delmiter/separator) and return the csvreader object\n",
    "    csvreader = csv.reader(csvfile, delimiter=',')\n",
    "    # Print the datatype of the csvreader\n",
    "    print(type(csvreader))\n",
    "    \n",
    "     # Go to the next row from the start of the file\n",
    "    # (which is often the first row/header) and iterate line_num by 1\n",
    "    header = next(csvreader)\n",
    "    line_num += 1\n",
    "    # Print the header\n",
    "    print(f\"{header} <---- HEADER\")\n",
    "    \n",
    "        # Read through each row of data after the header\n",
    "    for row in csvreader:\n",
    "\n",
    "        # Count of months\n",
    "        count_months += 1\n",
    "\n",
    "        # Net total amount of \"Profit/Losses\" over the entire period\n",
    "        current_month_profit_loss = int(row[1])\n",
    "        net_profit_loss += current_month_profit_loss\n",
    "        \n",
    "        if (count_months == 1):\n",
    "            # Make the value of previous month to be equal to current month\n",
    "            previous_month_profit_loss = current_month_profit_loss\n",
    "            continue\n",
    "\n",
    "        else:\n",
    "\n",
    "            # Compute change in profit loss \n",
    "            profit_loss_change = current_month_profit_loss - previous_month_profit_loss\n",
    "\n",
    "            # Append each month to the months[]\n",
    "            months.append(row[0])\n",
    "\n",
    "            # Append each profit_loss_change to the profit_loss_changes[]\n",
    "            profit_loss_changes.append(profit_loss_change)\n",
    "\n",
    "            # Make the current_month_loss to be previous_month_profit_loss for the next loop\n",
    "            previous_month_profit_loss = current_month_profit_loss\n",
    "            \n",
    "            \n"
   ]
  },
  {
   "cell_type": "code",
   "execution_count": null,
   "id": "executive-placement",
   "metadata": {},
   "outputs": [],
   "source": []
  },
  {
   "cell_type": "code",
   "execution_count": null,
   "id": "fitting-celtic",
   "metadata": {},
   "outputs": [],
   "source": []
  }
 ],
 "metadata": {
  "kernelspec": {
   "display_name": "Python 3",
   "language": "python",
   "name": "python3"
  },
  "language_info": {
   "codemirror_mode": {
    "name": "ipython",
    "version": 3
   },
   "file_extension": ".py",
   "mimetype": "text/x-python",
   "name": "python",
   "nbconvert_exporter": "python",
   "pygments_lexer": "ipython3",
   "version": "3.8.5"
  }
 },
 "nbformat": 4,
 "nbformat_minor": 5
}
